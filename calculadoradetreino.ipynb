{
 "cells": [
  {
   "cell_type": "code",
   "execution_count": 2,
   "id": "187896b1-ef40-4bf8-bf93-9bb5a81c5208",
   "metadata": {},
   "outputs": [
    {
     "name": "stdin",
     "output_type": "stream",
     "text": [
      "Carga de treino executada? 89\n",
      "Número de repetições? 4\n"
     ]
    },
    {
     "name": "stdout",
     "output_type": "stream",
     "text": [
      "--- Carga de 1 RM ---\n",
      "Carga de 1RM: 100.85 kg\n"
     ]
    }
   ],
   "source": [
    "try:\n",
    "    carga_utilizada = float(input(\"Carga de treino executada?\"))\n",
    "    numero_rep = float(input(\"Número de repetições?\"))\n",
    "    rm_preditivo = (0.0333 * numero_rep * carga_utilizada) + carga_utilizada\n",
    "\n",
    "    if numero_rep > 20:\n",
    "        raise ValueError(\"A carga não pode ser maior que 20 repetições.\")\n",
    "    \n",
    "    print(\"--- Carga de 1 RM ---\")\n",
    "    print(f\"Carga de 1RM: {rm_preditivo:.2f} kg\")\n",
    "\n",
    "except ValueError:\n",
    "    print(\"Erro: Por favor, insira um valor válido.\")\n",
    "    "
   ]
  },
  {
   "cell_type": "code",
   "execution_count": null,
   "id": "3701f69a-9907-4667-b2b3-018f3fd786e2",
   "metadata": {},
   "outputs": [],
   "source": []
  }
 ],
 "metadata": {
  "kernelspec": {
   "display_name": "Python 3 (ipykernel)",
   "language": "python",
   "name": "python3"
  },
  "language_info": {
   "codemirror_mode": {
    "name": "ipython",
    "version": 3
   },
   "file_extension": ".py",
   "mimetype": "text/x-python",
   "name": "python",
   "nbconvert_exporter": "python",
   "pygments_lexer": "ipython3",
   "version": "3.12.7"
  }
 },
 "nbformat": 4,
 "nbformat_minor": 5
}
